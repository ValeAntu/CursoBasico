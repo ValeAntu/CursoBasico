{
 "cells": [
  {
   "cell_type": "markdown",
   "metadata": {},
   "source": [
    "# Leer la tabla"
   ]
  },
  {
   "cell_type": "code",
   "execution_count": 1,
   "metadata": {},
   "outputs": [
    {
     "name": "stderr",
     "output_type": "stream",
     "text": [
      "C:\\ProgramData\\Anaconda3\\lib\\site-packages\\statsmodels\\compat\\pandas.py:56: FutureWarning: The pandas.core.datetools module is deprecated and will be removed in a future version. Please use the pandas.tseries module instead.\n",
      "  from pandas.core import datetools\n"
     ]
    }
   ],
   "source": [
    "import numpy as np\n",
    "import pandas as pd\n",
    "import seaborn as sns\n",
    "import matplotlib.pyplot as plt\n",
    "import matplotlib as mpl\n",
    "import statsmodels.api as sm\n",
    "from itertools import product\n",
    "from datetime import datetime\n",
    "plt.style.use('seaborn-poster')"
   ]
  },
  {
   "cell_type": "code",
   "execution_count": 2,
   "metadata": {},
   "outputs": [
    {
     "data": {
      "text/html": [
       "<div>\n",
       "<style>\n",
       "    .dataframe thead tr:only-child th {\n",
       "        text-align: right;\n",
       "    }\n",
       "\n",
       "    .dataframe thead th {\n",
       "        text-align: left;\n",
       "    }\n",
       "\n",
       "    .dataframe tbody tr th {\n",
       "        vertical-align: top;\n",
       "    }\n",
       "</style>\n",
       "<table border=\"1\" class=\"dataframe\">\n",
       "  <thead>\n",
       "    <tr style=\"text-align: right;\">\n",
       "      <th></th>\n",
       "      <th>Date</th>\n",
       "      <th>Poliza</th>\n",
       "      <th>Prima</th>\n",
       "      <th>Cantidad</th>\n",
       "    </tr>\n",
       "  </thead>\n",
       "  <tbody>\n",
       "    <tr>\n",
       "      <th>655</th>\n",
       "      <td>1/9/2017</td>\n",
       "      <td>400020</td>\n",
       "      <td>8084.75</td>\n",
       "      <td>272</td>\n",
       "    </tr>\n",
       "    <tr>\n",
       "      <th>4111</th>\n",
       "      <td>1/11/2018</td>\n",
       "      <td>100386</td>\n",
       "      <td>84.80</td>\n",
       "      <td>3</td>\n",
       "    </tr>\n",
       "    <tr>\n",
       "      <th>2221</th>\n",
       "      <td>1/4/2018</td>\n",
       "      <td>100264</td>\n",
       "      <td>249240.98</td>\n",
       "      <td>2</td>\n",
       "    </tr>\n",
       "    <tr>\n",
       "      <th>3885</th>\n",
       "      <td>1/10/2018</td>\n",
       "      <td>200091</td>\n",
       "      <td>63920.69</td>\n",
       "      <td>542</td>\n",
       "    </tr>\n",
       "    <tr>\n",
       "      <th>339</th>\n",
       "      <td>1/8/2017</td>\n",
       "      <td>100262</td>\n",
       "      <td>84174.78</td>\n",
       "      <td>3</td>\n",
       "    </tr>\n",
       "  </tbody>\n",
       "</table>\n",
       "</div>"
      ],
      "text/plain": [
       "           Date  Poliza      Prima  Cantidad\n",
       "655    1/9/2017  400020    8084.75       272\n",
       "4111  1/11/2018  100386      84.80         3\n",
       "2221   1/4/2018  100264  249240.98         2\n",
       "3885  1/10/2018  200091   63920.69       542\n",
       "339    1/8/2017  100262   84174.78         3"
      ]
     },
     "execution_count": 2,
     "metadata": {},
     "output_type": "execute_result"
    }
   ],
   "source": [
    "real = pd.read_csv('C:/Users/vantunez/Desktop/Forecast.csv')\n",
    "detalle = pd.read_csv('C:/Users/vantunez/Desktop/Detalle.csv')\n",
    "real.sample(5)"
   ]
  },
  {
   "cell_type": "code",
   "execution_count": 3,
   "metadata": {},
   "outputs": [
    {
     "data": {
      "text/html": [
       "<div>\n",
       "<style>\n",
       "    .dataframe thead tr:only-child th {\n",
       "        text-align: right;\n",
       "    }\n",
       "\n",
       "    .dataframe thead th {\n",
       "        text-align: left;\n",
       "    }\n",
       "\n",
       "    .dataframe tbody tr th {\n",
       "        vertical-align: top;\n",
       "    }\n",
       "</style>\n",
       "<table border=\"1\" class=\"dataframe\">\n",
       "  <thead>\n",
       "    <tr style=\"text-align: right;\">\n",
       "      <th></th>\n",
       "      <th>Poliza</th>\n",
       "      <th>Prod</th>\n",
       "      <th>Grupo Economico</th>\n",
       "      <th>Canal de Venta</th>\n",
       "      <th>Vinculo Comercial</th>\n",
       "      <th>Equipo Comercial</th>\n",
       "    </tr>\n",
       "  </thead>\n",
       "  <tbody>\n",
       "    <tr>\n",
       "      <th>391</th>\n",
       "      <td>200049</td>\n",
       "      <td>AP</td>\n",
       "      <td>IPLYC</td>\n",
       "      <td>PRODUCTOR</td>\n",
       "      <td>PRODUCTOR</td>\n",
       "      <td>H.Reich</td>\n",
       "    </tr>\n",
       "    <tr>\n",
       "      <th>103</th>\n",
       "      <td>100153</td>\n",
       "      <td>VC</td>\n",
       "      <td>Grupo Pampa</td>\n",
       "      <td>FUERZA DE VENTA</td>\n",
       "      <td>DIRECTO</td>\n",
       "      <td>M.Albano</td>\n",
       "    </tr>\n",
       "    <tr>\n",
       "      <th>548</th>\n",
       "      <td>300003</td>\n",
       "      <td>SEP</td>\n",
       "      <td>Marandu</td>\n",
       "      <td>FUERZA DE VENTA</td>\n",
       "      <td>DIRECTO</td>\n",
       "      <td>H.Reich</td>\n",
       "    </tr>\n",
       "    <tr>\n",
       "      <th>325</th>\n",
       "      <td>100392</td>\n",
       "      <td>VC</td>\n",
       "      <td>ABSeguros</td>\n",
       "      <td>ECOMMERCE</td>\n",
       "      <td>PRODUCTOR</td>\n",
       "      <td>A.Cortez</td>\n",
       "    </tr>\n",
       "    <tr>\n",
       "      <th>254</th>\n",
       "      <td>100321</td>\n",
       "      <td>SD</td>\n",
       "      <td>MERCEDES BENZ</td>\n",
       "      <td>BANCA SEGUROS</td>\n",
       "      <td>AI&amp;P</td>\n",
       "      <td>H.Reich</td>\n",
       "    </tr>\n",
       "  </tbody>\n",
       "</table>\n",
       "</div>"
      ],
      "text/plain": [
       "     Poliza Prod Grupo Economico   Canal de Venta Vinculo Comercial  \\\n",
       "391  200049   AP           IPLYC        PRODUCTOR         PRODUCTOR   \n",
       "103  100153   VC     Grupo Pampa  FUERZA DE VENTA           DIRECTO   \n",
       "548  300003  SEP         Marandu  FUERZA DE VENTA           DIRECTO   \n",
       "325  100392   VC       ABSeguros        ECOMMERCE         PRODUCTOR   \n",
       "254  100321   SD   MERCEDES BENZ    BANCA SEGUROS              AI&P   \n",
       "\n",
       "    Equipo Comercial  \n",
       "391          H.Reich  \n",
       "103         M.Albano  \n",
       "548          H.Reich  \n",
       "325         A.Cortez  \n",
       "254          H.Reich  "
      ]
     },
     "execution_count": 3,
     "metadata": {},
     "output_type": "execute_result"
    }
   ],
   "source": [
    "detalle.sample(5)"
   ]
  },
  {
   "cell_type": "code",
   "execution_count": 4,
   "metadata": {
    "collapsed": true
   },
   "outputs": [],
   "source": [
    "real['Date'] = pd.to_datetime(real['Date'], format='%d/%m/%Y')"
   ]
  },
  {
   "cell_type": "code",
   "execution_count": 5,
   "metadata": {},
   "outputs": [
    {
     "data": {
      "text/plain": [
       "Date        datetime64[ns]\n",
       "Poliza               int64\n",
       "Prima              float64\n",
       "Cantidad             int64\n",
       "dtype: object"
      ]
     },
     "execution_count": 5,
     "metadata": {},
     "output_type": "execute_result"
    }
   ],
   "source": [
    "real.dtypes"
   ]
  },
  {
   "cell_type": "code",
   "execution_count": 6,
   "metadata": {},
   "outputs": [
    {
     "data": {
      "text/plain": [
       "Poliza                int64\n",
       "Prod                 object\n",
       "Grupo Economico      object\n",
       "Canal de Venta       object\n",
       "Vinculo Comercial    object\n",
       "Equipo Comercial     object\n",
       "dtype: object"
      ]
     },
     "execution_count": 6,
     "metadata": {},
     "output_type": "execute_result"
    }
   ],
   "source": [
    "detalle.dtypes"
   ]
  },
  {
   "cell_type": "code",
   "execution_count": 7,
   "metadata": {},
   "outputs": [
    {
     "data": {
      "text/plain": [
       "5537"
      ]
     },
     "execution_count": 7,
     "metadata": {},
     "output_type": "execute_result"
    }
   ],
   "source": [
    "real.Poliza.count()"
   ]
  },
  {
   "cell_type": "code",
   "execution_count": 8,
   "metadata": {},
   "outputs": [
    {
     "data": {
      "text/plain": [
       "1164724654.8199997"
      ]
     },
     "execution_count": 8,
     "metadata": {},
     "output_type": "execute_result"
    }
   ],
   "source": [
    "real.Prima.sum()"
   ]
  },
  {
   "cell_type": "code",
   "execution_count": 9,
   "metadata": {},
   "outputs": [
    {
     "data": {
      "text/plain": [
       "1494724"
      ]
     },
     "execution_count": 9,
     "metadata": {},
     "output_type": "execute_result"
    }
   ],
   "source": [
    "real.Cantidad.sum()"
   ]
  },
  {
   "cell_type": "code",
   "execution_count": 10,
   "metadata": {},
   "outputs": [
    {
     "data": {
      "text/html": [
       "<div>\n",
       "<style>\n",
       "    .dataframe thead tr:only-child th {\n",
       "        text-align: right;\n",
       "    }\n",
       "\n",
       "    .dataframe thead th {\n",
       "        text-align: left;\n",
       "    }\n",
       "\n",
       "    .dataframe tbody tr th {\n",
       "        vertical-align: top;\n",
       "    }\n",
       "</style>\n",
       "<table border=\"1\" class=\"dataframe\">\n",
       "  <thead>\n",
       "    <tr style=\"text-align: right;\">\n",
       "      <th></th>\n",
       "      <th>Date</th>\n",
       "      <th>Poliza</th>\n",
       "      <th>Prima</th>\n",
       "      <th>Cantidad</th>\n",
       "    </tr>\n",
       "  </thead>\n",
       "  <tbody>\n",
       "    <tr>\n",
       "      <th>1502</th>\n",
       "      <td>2018-01-01</td>\n",
       "      <td>100206</td>\n",
       "      <td>21539.64</td>\n",
       "      <td>1</td>\n",
       "    </tr>\n",
       "    <tr>\n",
       "      <th>3782</th>\n",
       "      <td>2018-10-01</td>\n",
       "      <td>100213</td>\n",
       "      <td>0.00</td>\n",
       "      <td>1</td>\n",
       "    </tr>\n",
       "    <tr>\n",
       "      <th>598</th>\n",
       "      <td>2017-09-01</td>\n",
       "      <td>100295</td>\n",
       "      <td>0.00</td>\n",
       "      <td>2</td>\n",
       "    </tr>\n",
       "    <tr>\n",
       "      <th>2224</th>\n",
       "      <td>2018-04-01</td>\n",
       "      <td>100267</td>\n",
       "      <td>589.26</td>\n",
       "      <td>1</td>\n",
       "    </tr>\n",
       "    <tr>\n",
       "      <th>1551</th>\n",
       "      <td>2018-01-01</td>\n",
       "      <td>100277</td>\n",
       "      <td>5532.00</td>\n",
       "      <td>75</td>\n",
       "    </tr>\n",
       "  </tbody>\n",
       "</table>\n",
       "</div>"
      ],
      "text/plain": [
       "           Date  Poliza     Prima  Cantidad\n",
       "1502 2018-01-01  100206  21539.64         1\n",
       "3782 2018-10-01  100213      0.00         1\n",
       "598  2017-09-01  100295      0.00         2\n",
       "2224 2018-04-01  100267    589.26         1\n",
       "1551 2018-01-01  100277   5532.00        75"
      ]
     },
     "execution_count": 10,
     "metadata": {},
     "output_type": "execute_result"
    }
   ],
   "source": [
    "real.sample(5)"
   ]
  },
  {
   "cell_type": "markdown",
   "metadata": {},
   "source": [
    "# Merge all"
   ]
  },
  {
   "cell_type": "code",
   "execution_count": 11,
   "metadata": {},
   "outputs": [
    {
     "data": {
      "text/html": [
       "<div>\n",
       "<style>\n",
       "    .dataframe thead tr:only-child th {\n",
       "        text-align: right;\n",
       "    }\n",
       "\n",
       "    .dataframe thead th {\n",
       "        text-align: left;\n",
       "    }\n",
       "\n",
       "    .dataframe tbody tr th {\n",
       "        vertical-align: top;\n",
       "    }\n",
       "</style>\n",
       "<table border=\"1\" class=\"dataframe\">\n",
       "  <thead>\n",
       "    <tr style=\"text-align: right;\">\n",
       "      <th></th>\n",
       "      <th>Date</th>\n",
       "      <th>Poliza</th>\n",
       "      <th>Prima</th>\n",
       "      <th>Cantidad</th>\n",
       "      <th>Prod</th>\n",
       "      <th>Grupo Economico</th>\n",
       "      <th>Canal de Venta</th>\n",
       "      <th>Vinculo Comercial</th>\n",
       "      <th>Equipo Comercial</th>\n",
       "    </tr>\n",
       "  </thead>\n",
       "  <tbody>\n",
       "    <tr>\n",
       "      <th>3285</th>\n",
       "      <td>2018-04-01</td>\n",
       "      <td>200016</td>\n",
       "      <td>5589.14</td>\n",
       "      <td>91</td>\n",
       "      <td>AP</td>\n",
       "      <td>Call Center</td>\n",
       "      <td>ECOMMERCE</td>\n",
       "      <td>DIRECTO</td>\n",
       "      <td>A.Cortez</td>\n",
       "    </tr>\n",
       "    <tr>\n",
       "      <th>2936</th>\n",
       "      <td>2018-07-01</td>\n",
       "      <td>100264</td>\n",
       "      <td>292907.13</td>\n",
       "      <td>3</td>\n",
       "      <td>VC</td>\n",
       "      <td>EDENOR</td>\n",
       "      <td>INSTITUCIONAL</td>\n",
       "      <td>PRODUCTOR</td>\n",
       "      <td>H.Reich</td>\n",
       "    </tr>\n",
       "    <tr>\n",
       "      <th>1177</th>\n",
       "      <td>2018-04-01</td>\n",
       "      <td>100134</td>\n",
       "      <td>286.60</td>\n",
       "      <td>1</td>\n",
       "      <td>SD</td>\n",
       "      <td>Banco Nación</td>\n",
       "      <td>BANCA SEGUROS</td>\n",
       "      <td>AGENTE INSTITORIO</td>\n",
       "      <td>M.Albano</td>\n",
       "    </tr>\n",
       "    <tr>\n",
       "      <th>4187</th>\n",
       "      <td>2017-12-01</td>\n",
       "      <td>100294</td>\n",
       "      <td>121413.60</td>\n",
       "      <td>594</td>\n",
       "      <td>VC</td>\n",
       "      <td>ABSeguros</td>\n",
       "      <td>ECOMMERCE</td>\n",
       "      <td>PRODUCTOR</td>\n",
       "      <td>A.Cortez</td>\n",
       "    </tr>\n",
       "    <tr>\n",
       "      <th>1857</th>\n",
       "      <td>2018-04-01</td>\n",
       "      <td>100188</td>\n",
       "      <td>2206.68</td>\n",
       "      <td>41</td>\n",
       "      <td>VC</td>\n",
       "      <td>BST</td>\n",
       "      <td>TELEMARKETING</td>\n",
       "      <td>AI&amp;P</td>\n",
       "      <td>A.Cortez</td>\n",
       "    </tr>\n",
       "  </tbody>\n",
       "</table>\n",
       "</div>"
      ],
      "text/plain": [
       "           Date  Poliza      Prima  Cantidad Prod Grupo Economico  \\\n",
       "3285 2018-04-01  200016    5589.14        91   AP     Call Center   \n",
       "2936 2018-07-01  100264  292907.13         3   VC          EDENOR   \n",
       "1177 2018-04-01  100134     286.60         1   SD    Banco Nación   \n",
       "4187 2017-12-01  100294  121413.60       594   VC       ABSeguros   \n",
       "1857 2018-04-01  100188    2206.68        41   VC             BST   \n",
       "\n",
       "     Canal de Venta  Vinculo Comercial Equipo Comercial  \n",
       "3285      ECOMMERCE            DIRECTO         A.Cortez  \n",
       "2936  INSTITUCIONAL          PRODUCTOR          H.Reich  \n",
       "1177  BANCA SEGUROS  AGENTE INSTITORIO         M.Albano  \n",
       "4187      ECOMMERCE          PRODUCTOR         A.Cortez  \n",
       "1857  TELEMARKETING               AI&P         A.Cortez  "
      ]
     },
     "execution_count": 11,
     "metadata": {},
     "output_type": "execute_result"
    }
   ],
   "source": [
    "base = pd.merge(real, detalle, on = ['Poliza'], how= 'inner')\n",
    "base.sample(5)"
   ]
  },
  {
   "cell_type": "code",
   "execution_count": 12,
   "metadata": {},
   "outputs": [
    {
     "data": {
      "text/plain": [
       "5537"
      ]
     },
     "execution_count": 12,
     "metadata": {},
     "output_type": "execute_result"
    }
   ],
   "source": [
    "base.Poliza.count()"
   ]
  },
  {
   "cell_type": "code",
   "execution_count": 13,
   "metadata": {},
   "outputs": [
    {
     "data": {
      "text/plain": [
       "1164724654.819999"
      ]
     },
     "execution_count": 13,
     "metadata": {},
     "output_type": "execute_result"
    }
   ],
   "source": [
    "base.Prima.sum()"
   ]
  },
  {
   "cell_type": "code",
   "execution_count": 14,
   "metadata": {},
   "outputs": [
    {
     "data": {
      "text/plain": [
       "Date                 datetime64[ns]\n",
       "Poliza                        int64\n",
       "Prima                       float64\n",
       "Cantidad                      int64\n",
       "Prod                         object\n",
       "Grupo Economico              object\n",
       "Canal de Venta               object\n",
       "Vinculo Comercial            object\n",
       "Equipo Comercial             object\n",
       "dtype: object"
      ]
     },
     "execution_count": 14,
     "metadata": {},
     "output_type": "execute_result"
    }
   ],
   "source": [
    "base.dtypes"
   ]
  },
  {
   "cell_type": "markdown",
   "metadata": {},
   "source": [
    "fig = plt.figure(figsize=[15, 7])\n",
    "plt.plot(base.Date, base.Prima)\n",
    "plt.show()"
   ]
  },
  {
   "cell_type": "code",
   "execution_count": 15,
   "metadata": {},
   "outputs": [
    {
     "data": {
      "text/html": [
       "<div>\n",
       "<style>\n",
       "    .dataframe thead tr:only-child th {\n",
       "        text-align: right;\n",
       "    }\n",
       "\n",
       "    .dataframe thead th {\n",
       "        text-align: left;\n",
       "    }\n",
       "\n",
       "    .dataframe tbody tr th {\n",
       "        vertical-align: top;\n",
       "    }\n",
       "</style>\n",
       "<table border=\"1\" class=\"dataframe\">\n",
       "  <thead>\n",
       "    <tr style=\"text-align: right;\">\n",
       "      <th></th>\n",
       "      <th>Poliza</th>\n",
       "      <th>Prima</th>\n",
       "      <th>Cantidad</th>\n",
       "    </tr>\n",
       "  </thead>\n",
       "  <tbody>\n",
       "    <tr>\n",
       "      <th>count</th>\n",
       "      <td>5.537000e+03</td>\n",
       "      <td>5.537000e+03</td>\n",
       "      <td>5537.000000</td>\n",
       "    </tr>\n",
       "    <tr>\n",
       "      <th>mean</th>\n",
       "      <td>3.054295e+06</td>\n",
       "      <td>2.103530e+05</td>\n",
       "      <td>269.951960</td>\n",
       "    </tr>\n",
       "    <tr>\n",
       "      <th>std</th>\n",
       "      <td>1.764670e+07</td>\n",
       "      <td>8.456817e+05</td>\n",
       "      <td>1835.817235</td>\n",
       "    </tr>\n",
       "    <tr>\n",
       "      <th>min</th>\n",
       "      <td>1.000230e+05</td>\n",
       "      <td>-8.531737e+05</td>\n",
       "      <td>1.000000</td>\n",
       "    </tr>\n",
       "    <tr>\n",
       "      <th>25%</th>\n",
       "      <td>1.001510e+05</td>\n",
       "      <td>6.237400e+02</td>\n",
       "      <td>1.000000</td>\n",
       "    </tr>\n",
       "    <tr>\n",
       "      <th>50%</th>\n",
       "      <td>1.002530e+05</td>\n",
       "      <td>4.848980e+03</td>\n",
       "      <td>2.000000</td>\n",
       "    </tr>\n",
       "    <tr>\n",
       "      <th>75%</th>\n",
       "      <td>1.003960e+05</td>\n",
       "      <td>3.694559e+04</td>\n",
       "      <td>9.000000</td>\n",
       "    </tr>\n",
       "    <tr>\n",
       "      <th>max</th>\n",
       "      <td>1.170000e+08</td>\n",
       "      <td>1.123953e+07</td>\n",
       "      <td>33532.000000</td>\n",
       "    </tr>\n",
       "  </tbody>\n",
       "</table>\n",
       "</div>"
      ],
      "text/plain": [
       "             Poliza         Prima      Cantidad\n",
       "count  5.537000e+03  5.537000e+03   5537.000000\n",
       "mean   3.054295e+06  2.103530e+05    269.951960\n",
       "std    1.764670e+07  8.456817e+05   1835.817235\n",
       "min    1.000230e+05 -8.531737e+05      1.000000\n",
       "25%    1.001510e+05  6.237400e+02      1.000000\n",
       "50%    1.002530e+05  4.848980e+03      2.000000\n",
       "75%    1.003960e+05  3.694559e+04      9.000000\n",
       "max    1.170000e+08  1.123953e+07  33532.000000"
      ]
     },
     "execution_count": 15,
     "metadata": {},
     "output_type": "execute_result"
    }
   ],
   "source": [
    "base.describe()"
   ]
  },
  {
   "cell_type": "code",
   "execution_count": 16,
   "metadata": {},
   "outputs": [
    {
     "data": {
      "text/html": [
       "<div>\n",
       "<style>\n",
       "    .dataframe thead tr:only-child th {\n",
       "        text-align: right;\n",
       "    }\n",
       "\n",
       "    .dataframe thead th {\n",
       "        text-align: left;\n",
       "    }\n",
       "\n",
       "    .dataframe tbody tr th {\n",
       "        vertical-align: top;\n",
       "    }\n",
       "</style>\n",
       "<table border=\"1\" class=\"dataframe\">\n",
       "  <thead>\n",
       "    <tr style=\"text-align: right;\">\n",
       "      <th></th>\n",
       "      <th>Date</th>\n",
       "      <th>Poliza</th>\n",
       "      <th>Prima</th>\n",
       "      <th>Cantidad</th>\n",
       "      <th>Prod</th>\n",
       "      <th>Grupo Economico</th>\n",
       "      <th>Canal de Venta</th>\n",
       "      <th>Vinculo Comercial</th>\n",
       "      <th>Equipo Comercial</th>\n",
       "    </tr>\n",
       "  </thead>\n",
       "  <tbody>\n",
       "    <tr>\n",
       "      <th>column Type</th>\n",
       "      <td>datetime64[ns]</td>\n",
       "      <td>int64</td>\n",
       "      <td>float64</td>\n",
       "      <td>int64</td>\n",
       "      <td>object</td>\n",
       "      <td>object</td>\n",
       "      <td>object</td>\n",
       "      <td>object</td>\n",
       "      <td>object</td>\n",
       "    </tr>\n",
       "    <tr>\n",
       "      <th>null values (nb)</th>\n",
       "      <td>0</td>\n",
       "      <td>0</td>\n",
       "      <td>0</td>\n",
       "      <td>0</td>\n",
       "      <td>0</td>\n",
       "      <td>0</td>\n",
       "      <td>0</td>\n",
       "      <td>0</td>\n",
       "      <td>0</td>\n",
       "    </tr>\n",
       "    <tr>\n",
       "      <th>null values (%)</th>\n",
       "      <td>0</td>\n",
       "      <td>0</td>\n",
       "      <td>0</td>\n",
       "      <td>0</td>\n",
       "      <td>0</td>\n",
       "      <td>0</td>\n",
       "      <td>0</td>\n",
       "      <td>0</td>\n",
       "      <td>0</td>\n",
       "    </tr>\n",
       "  </tbody>\n",
       "</table>\n",
       "</div>"
      ],
      "text/plain": [
       "                            Date Poliza    Prima Cantidad    Prod  \\\n",
       "column Type       datetime64[ns]  int64  float64    int64  object   \n",
       "null values (nb)               0      0        0        0       0   \n",
       "null values (%)                0      0        0        0       0   \n",
       "\n",
       "                 Grupo Economico Canal de Venta Vinculo Comercial  \\\n",
       "column Type               object         object            object   \n",
       "null values (nb)               0              0                 0   \n",
       "null values (%)                0              0                 0   \n",
       "\n",
       "                 Equipo Comercial  \n",
       "column Type                object  \n",
       "null values (nb)                0  \n",
       "null values (%)                 0  "
      ]
     },
     "execution_count": 16,
     "metadata": {},
     "output_type": "execute_result"
    }
   ],
   "source": [
    "tab_info = pd.DataFrame(base.dtypes).T.rename(index={0:'column Type'}) \n",
    "tab_info = tab_info.append(pd.DataFrame(base.isnull().sum()).T.rename(index={0:'null values (nb)'}))\n",
    "tab_info = tab_info.append(pd.DataFrame(base.isnull().sum()/base.shape[0]*100).T.\n",
    "                                       rename(index={0: 'null values (%)'}))\n",
    "tab_info"
   ]
  },
  {
   "cell_type": "markdown",
   "metadata": {},
   "source": [
    "# Gráficos"
   ]
  },
  {
   "cell_type": "code",
   "execution_count": 17,
   "metadata": {},
   "outputs": [
    {
     "data": {
      "image/png": "[encoded data removed]",
      "text/plain": [
       "<matplotlib.figure.Figure at 0x20c5b695438>"
      ]
     },
     "metadata": {},
     "output_type": "display_data"
    }
   ],
   "source": [
    "base.plot(x='Date', subplots=True, figsize=(20,15))\n",
    "plt.show()"
   ]
  },
  {
   "cell_type": "markdown",
   "metadata": {},
   "source": [
    "# Forecast"
   ]
  },
  {
   "cell_type": "code",
   "execution_count": 19,
   "metadata": {
    "collapsed": true
   },
   "outputs": [],
   "source": [
    "base_sort = base.sort_values('Date', ascending=False)"
   ]
  },
  {
   "cell_type": "code",
   "execution_count": 37,
   "metadata": {},
   "outputs": [
    {
     "ename": "NameError",
     "evalue": "name 'stats' is not defined",
     "output_type": "error",
     "traceback": [
      "\u001b[1;31m---------------------------------------------------------------------------\u001b[0m",
      "\u001b[1;31mNameError\u001b[0m                                 Traceback (most recent call last)",
      "\u001b[1;32m<ipython-input-37-d8ad768cb7d6>\u001b[0m in \u001b[0;36m<module>\u001b[1;34m()\u001b[0m\n\u001b[1;32m----> 1\u001b[1;33m \u001b[0mbase\u001b[0m\u001b[1;33m[\u001b[0m\u001b[1;34m'Prima'\u001b[0m\u001b[1;33m]\u001b[0m\u001b[1;33m,\u001b[0m \u001b[0mlmbda\u001b[0m \u001b[1;33m=\u001b[0m \u001b[0mstats\u001b[0m\u001b[1;33m.\u001b[0m\u001b[0mboxcox\u001b[0m\u001b[1;33m(\u001b[0m\u001b[0mbase\u001b[0m\u001b[1;33m.\u001b[0m\u001b[0mPrima\u001b[0m\u001b[1;33m)\u001b[0m\u001b[1;33m\u001b[0m\u001b[0m\n\u001b[0m\u001b[0;32m      2\u001b[0m \u001b[0mprint\u001b[0m\u001b[1;33m(\u001b[0m\u001b[1;34m\"Dickey–Fuller test: p=%f\"\u001b[0m \u001b[1;33m%\u001b[0m \u001b[0msm\u001b[0m\u001b[1;33m.\u001b[0m\u001b[0mtsa\u001b[0m\u001b[1;33m.\u001b[0m\u001b[0mstattools\u001b[0m\u001b[1;33m.\u001b[0m\u001b[0madfuller\u001b[0m\u001b[1;33m(\u001b[0m\u001b[0mbase\u001b[0m\u001b[1;33m.\u001b[0m\u001b[0mPrima\u001b[0m\u001b[1;33m)\u001b[0m\u001b[1;33m[\u001b[0m\u001b[1;36m1\u001b[0m\u001b[1;33m]\u001b[0m\u001b[1;33m)\u001b[0m\u001b[1;33m\u001b[0m\u001b[0m\n",
      "\u001b[1;31mNameError\u001b[0m: name 'stats' is not defined"
     ]
    }
   ],
   "source": [
    "base['Prima'], lmbda = stats.boxcox(base.Prima)\n",
    "print(\"Dickey–Fuller test: p=%f\" % sm.tsa.stattools.adfuller(base.Prima)[1])"
   ]
  },
  {
   "cell_type": "markdown",
   "metadata": {},
   "source": [
    "### Parametros"
   ]
  },
  {
   "cell_type": "markdown",
   "metadata": {},
   "source": [
    "Qs = range(0, 2)\n",
    "qs = range(0, 3)\n",
    "Ps = range(0, 3)\n",
    "ps = range(0, 3)\n",
    "D=1\n",
    "d=1\n",
    "parameters = product(ps, qs, Ps, Qs)\n",
    "parameters_list = list(parameters)\n",
    "len(parameters_list)"
   ]
  },
  {
   "cell_type": "markdown",
   "metadata": {},
   "source": [
    "### Selección de modelos"
   ]
  },
  {
   "cell_type": "code",
   "execution_count": 32,
   "metadata": {},
   "outputs": [
    {
     "name": "stdout",
     "output_type": "stream",
     "text": [
      "wrong parameters: (0, 0, 0, 0)\n",
      "wrong parameters: (0, 0, 0, 1)\n",
      "wrong parameters: (0, 0, 1, 0)\n",
      "wrong parameters: (0, 0, 1, 1)\n",
      "wrong parameters: (0, 0, 2, 0)\n",
      "wrong parameters: (0, 0, 2, 1)\n",
      "wrong parameters: (0, 1, 0, 0)\n",
      "wrong parameters: (0, 1, 0, 1)\n",
      "wrong parameters: (0, 1, 1, 0)\n",
      "wrong parameters: (0, 1, 1, 1)\n",
      "wrong parameters: (0, 1, 2, 0)\n",
      "wrong parameters: (0, 1, 2, 1)\n",
      "wrong parameters: (0, 2, 0, 0)\n",
      "wrong parameters: (0, 2, 0, 1)\n",
      "wrong parameters: (0, 2, 1, 0)\n",
      "wrong parameters: (0, 2, 1, 1)\n",
      "wrong parameters: (0, 2, 2, 0)\n",
      "wrong parameters: (0, 2, 2, 1)\n",
      "wrong parameters: (1, 0, 0, 0)\n",
      "wrong parameters: (1, 0, 0, 1)\n",
      "wrong parameters: (1, 0, 1, 0)\n",
      "wrong parameters: (1, 0, 1, 1)\n",
      "wrong parameters: (1, 0, 2, 0)\n",
      "wrong parameters: (1, 0, 2, 1)\n",
      "wrong parameters: (1, 1, 0, 0)\n",
      "wrong parameters: (1, 1, 0, 1)\n",
      "wrong parameters: (1, 1, 1, 0)\n",
      "wrong parameters: (1, 1, 1, 1)\n",
      "wrong parameters: (1, 1, 2, 0)\n",
      "wrong parameters: (1, 1, 2, 1)\n",
      "wrong parameters: (1, 2, 0, 0)\n",
      "wrong parameters: (1, 2, 0, 1)\n",
      "wrong parameters: (1, 2, 1, 0)\n",
      "wrong parameters: (1, 2, 1, 1)\n",
      "wrong parameters: (1, 2, 2, 0)\n",
      "wrong parameters: (1, 2, 2, 1)\n",
      "wrong parameters: (2, 0, 0, 0)\n",
      "wrong parameters: (2, 0, 0, 1)\n",
      "wrong parameters: (2, 0, 1, 0)\n",
      "wrong parameters: (2, 0, 1, 1)\n",
      "wrong parameters: (2, 0, 2, 0)\n",
      "wrong parameters: (2, 0, 2, 1)\n",
      "wrong parameters: (2, 1, 0, 0)\n",
      "wrong parameters: (2, 1, 0, 1)\n",
      "wrong parameters: (2, 1, 1, 0)\n",
      "wrong parameters: (2, 1, 1, 1)\n",
      "wrong parameters: (2, 1, 2, 0)\n",
      "wrong parameters: (2, 1, 2, 1)\n",
      "wrong parameters: (2, 2, 0, 0)\n",
      "wrong parameters: (2, 2, 0, 1)\n",
      "wrong parameters: (2, 2, 1, 0)\n",
      "wrong parameters: (2, 2, 1, 1)\n",
      "wrong parameters: (2, 2, 2, 0)\n",
      "wrong parameters: (2, 2, 2, 1)\n"
     ]
    }
   ],
   "source": [
    "import warnings\n",
    "results = []\n",
    "best_aic = float(\"inf\")\n",
    "warnings.filterwarnings('ignore')\n",
    "for param in parameters_list:\n",
    "    try:\n",
    "        model=sm.tsa.statespace.SARIMAX(base.Prima, order=(param[0], d, param[1]), \n",
    "                                        seasonal_order=(param[2], D, param[3], 12)).fit(disp=-1)\n",
    "    except ValueError:\n",
    "        print('wrong parameters:', param)\n",
    "        continue\n",
    "    aic = model.aic\n",
    "    if aic < best_aic:\n",
    "        best_model = model\n",
    "        best_aic = aic\n",
    "        best_param = param\n",
    "    results.append([param, model.aic])"
   ]
  },
  {
   "cell_type": "markdown",
   "metadata": {},
   "source": [
    "### Mejor modelo"
   ]
  },
  {
   "cell_type": "code",
   "execution_count": 36,
   "metadata": {},
   "outputs": [
    {
     "data": {
      "text/plain": [
       "[]"
      ]
     },
     "execution_count": 36,
     "metadata": {},
     "output_type": "execute_result"
    }
   ],
   "source": [
    "result_table = pd.DataFrame(results)\n",
    "results"
   ]
  },
  {
   "cell_type": "code",
   "execution_count": null,
   "metadata": {
    "collapsed": true
   },
   "outputs": [],
   "source": []
  },
  {
   "cell_type": "code",
   "execution_count": 25,
   "metadata": {
    "collapsed": true
   },
   "outputs": [],
   "source": [
    "from sklearn.linear_model import LinearRegression"
   ]
  },
  {
   "cell_type": "code",
   "execution_count": 26,
   "metadata": {
    "collapsed": true
   },
   "outputs": [],
   "source": [
    "def invboxcox(y,lmbda):\n",
    "   if lmbda == 0:\n",
    "      return(np.exp(y))\n",
    "   else:\n",
    "      return(np.exp(np.log(lmbda*y+1)/lmbda))"
   ]
  },
  {
   "cell_type": "code",
   "execution_count": 27,
   "metadata": {
    "collapsed": true
   },
   "outputs": [],
   "source": [
    "base_prima = base[['Prima']]\n",
    "date_list = [datetime(2019, 5, 1), datetime(2019, 6, 1), datetime(2019, 7, 1), datetime(2019, 8, 1), \n",
    "             datetime(2019, 9, 1), datetime(2019, 10, 1), datetime(2019, 11, 1), datetime(2019, 12, 1),\n",
    "             datetime(2020, 1, 1)]\n",
    "future = pd.DataFrame(index=date_list, columns= base.columns)"
   ]
  },
  {
   "cell_type": "code",
   "execution_count": 28,
   "metadata": {},
   "outputs": [
    {
     "ename": "NameError",
     "evalue": "name 'best_model' is not defined",
     "output_type": "error",
     "traceback": [
      "\u001b[1;31m---------------------------------------------------------------------------\u001b[0m",
      "\u001b[1;31mNameError\u001b[0m                                 Traceback (most recent call last)",
      "\u001b[1;32m<ipython-input-28-281a14ac0bb3>\u001b[0m in \u001b[0;36m<module>\u001b[1;34m()\u001b[0m\n\u001b[0;32m      1\u001b[0m \u001b[0mbase_prima\u001b[0m \u001b[1;33m=\u001b[0m \u001b[0mpd\u001b[0m\u001b[1;33m.\u001b[0m\u001b[0mconcat\u001b[0m\u001b[1;33m(\u001b[0m\u001b[1;33m[\u001b[0m\u001b[0mbase_prima\u001b[0m\u001b[1;33m,\u001b[0m \u001b[0mfuture\u001b[0m\u001b[1;33m]\u001b[0m\u001b[1;33m)\u001b[0m\u001b[1;33m\u001b[0m\u001b[0m\n\u001b[1;32m----> 2\u001b[1;33m \u001b[0mbase_prima\u001b[0m\u001b[1;33m[\u001b[0m\u001b[1;34m'forecast'\u001b[0m\u001b[1;33m]\u001b[0m \u001b[1;33m=\u001b[0m \u001b[0minvboxcox\u001b[0m\u001b[1;33m(\u001b[0m\u001b[0mbest_model\u001b[0m\u001b[1;33m.\u001b[0m\u001b[0mpredict\u001b[0m\u001b[1;33m(\u001b[0m\u001b[0mstart\u001b[0m\u001b[1;33m=\u001b[0m\u001b[1;36m0\u001b[0m\u001b[1;33m,\u001b[0m \u001b[0mend\u001b[0m\u001b[1;33m=\u001b[0m\u001b[1;36m75\u001b[0m\u001b[1;33m)\u001b[0m\u001b[1;33m,\u001b[0m \u001b[0mlmbda\u001b[0m\u001b[1;33m)\u001b[0m\u001b[1;33m\u001b[0m\u001b[0m\n\u001b[0m",
      "\u001b[1;31mNameError\u001b[0m: name 'best_model' is not defined"
     ]
    }
   ],
   "source": [
    "base_prima = pd.concat([base_prima, future])\n",
    "base_prima['forecast'] = invboxcox(best_model.predict(start=0, end=75), lmbda)"
   ]
  },
  {
   "cell_type": "code",
   "execution_count": null,
   "metadata": {
    "collapsed": true
   },
   "outputs": [],
   "source": [
    "df_month2 = pd.concat([df_month2, future])\n",
    "df_month2['forecast'] = invboxcox(best_model.predict(start=0, end=75), lmbda)\n",
    "plt.figure(figsize=(15,7))\n",
    "df_month2.Weighted_Price.plot()\n",
    "df_month2.forecast.plot(color='r', ls='--', label='Predicted Weighted_Price')\n",
    "plt.legend()\n",
    "plt.title('Bitcoin exchanges, by months')\n",
    "plt.ylabel('mean USD')\n",
    "plt.show()"
   ]
  },
  {
   "cell_type": "code",
   "execution_count": 18,
   "metadata": {
    "collapsed": true
   },
   "outputs": [],
   "source": [
    "\n",
    "\n",
    "def fit_ar_model(ts, orders):\n",
    "    \n",
    "    X=np.array([ ts.values[(i-orders)].squeeze() if i >= np.max(orders) else np.array(len(orders) * [np.nan]) for i in range(len(ts))])\n",
    "    \n",
    "    mask = ~np.isnan(X[:,:1]).squeeze()\n",
    "    \n",
    "    Y= ts.values\n",
    "    \n",
    "    lin_reg=LinearRegression()\n",
    "    \n",
    "    lin_reg.fit(X[mask],Y[mask])\n",
    "    \n",
    "    print(lin_reg.coef_, lin_reg.intercept_)\n",
    "\n",
    "    print('Score factor: %.2f' % lin_reg.score(X[mask],Y[mask]))\n",
    "    \n",
    "    return lin_reg.coef_, lin_reg.intercept_\n",
    "    \n",
    "def predict_ar_model(ts, orders, coef, intercept):\n",
    "    return np.array([np.sum(np.dot(coef, ts.values[(i-orders)].squeeze())) + intercept  if i >= np.max(orders) else np.nan for i in range(len(ts))])"
   ]
  },
  {
   "cell_type": "code",
   "execution_count": null,
   "metadata": {
    "collapsed": true
   },
   "outputs": [],
   "source": []
  }
 ],
 "metadata": {
  "kernelspec": {
   "display_name": "Python 3",
   "language": "python",
   "name": "python3"
  },
  "language_info": {
   "codemirror_mode": {
    "name": "ipython",
    "version": 3
   },
   "file_extension": ".py",
   "mimetype": "text/x-python",
   "name": "python",
   "nbconvert_exporter": "python",
   "pygments_lexer": "ipython3",
   "version": "3.6.1"
  }
 },
 "nbformat": 4,
 "nbformat_minor": 2
}
